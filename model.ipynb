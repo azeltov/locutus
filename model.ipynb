{
  "cells": [
    {
      "cell_type": "code",
      "source": [
        "%pip install transformers==4.17.0\n",
        "from transformers import GPT2Config, GPT2Tokenizer, GPT2LMHeadModel, pipeline"
      ],
      "outputs": [
        {
          "output_type": "stream",
          "name": "stdout",
          "text": "Collecting transformers==4.17.0\n  Downloading transformers-4.17.0-py3-none-any.whl (3.8 MB)\n\u001b[K     |████████████████████████████████| 3.8 MB 10.5 MB/s eta 0:00:01\n\u001b[?25hCollecting filelock\n  Downloading filelock-3.7.1-py3-none-any.whl (10 kB)\nCollecting tokenizers!=0.11.3,>=0.11.1\n  Downloading tokenizers-0.12.1-cp38-cp38-manylinux_2_12_x86_64.manylinux2010_x86_64.whl (6.6 MB)\n\u001b[K     |████████████████████████████████| 6.6 MB 51.8 MB/s eta 0:00:01\n\u001b[?25hCollecting huggingface-hub<1.0,>=0.1.0\n  Downloading huggingface_hub-0.7.0-py3-none-any.whl (86 kB)\n\u001b[K     |████████████████████████████████| 86 kB 704 kB/s  eta 0:00:01\n\u001b[?25hRequirement already satisfied: tqdm>=4.27 in /anaconda/envs/azureml_py38_PT_TF/lib/python3.8/site-packages (from transformers==4.17.0) (4.64.0)\nCollecting sacremoses\n  Downloading sacremoses-0.0.53.tar.gz (880 kB)\n\u001b[K     |████████████████████████████████| 880 kB 75.2 MB/s eta 0:00:01\n\u001b[?25hRequirement already satisfied: requests in /anaconda/envs/azureml_py38_PT_TF/lib/python3.8/site-packages (from transformers==4.17.0) (2.27.1)\nRequirement already satisfied: numpy>=1.17 in /anaconda/envs/azureml_py38_PT_TF/lib/python3.8/site-packages (from transformers==4.17.0) (1.22.3)\nRequirement already satisfied: pyyaml>=5.1 in /anaconda/envs/azureml_py38_PT_TF/lib/python3.8/site-packages (from transformers==4.17.0) (6.0)\nCollecting regex!=2019.12.17\n  Downloading regex-2022.6.2-cp38-cp38-manylinux_2_17_x86_64.manylinux2014_x86_64.whl (764 kB)\n\u001b[K     |████████████████████████████████| 764 kB 70.7 MB/s eta 0:00:01\n\u001b[?25hRequirement already satisfied: packaging>=20.0 in /anaconda/envs/azureml_py38_PT_TF/lib/python3.8/site-packages (from transformers==4.17.0) (21.3)\nRequirement already satisfied: typing-extensions>=3.7.4.3 in /anaconda/envs/azureml_py38_PT_TF/lib/python3.8/site-packages (from huggingface-hub<1.0,>=0.1.0->transformers==4.17.0) (4.2.0)\nRequirement already satisfied: pyparsing!=3.0.5,>=2.0.2 in /anaconda/envs/azureml_py38_PT_TF/lib/python3.8/site-packages (from packaging>=20.0->transformers==4.17.0) (3.0.8)\nRequirement already satisfied: urllib3<1.27,>=1.21.1 in /anaconda/envs/azureml_py38_PT_TF/lib/python3.8/site-packages (from requests->transformers==4.17.0) (1.26.9)\nRequirement already satisfied: charset-normalizer~=2.0.0 in /anaconda/envs/azureml_py38_PT_TF/lib/python3.8/site-packages (from requests->transformers==4.17.0) (2.0.12)\nRequirement already satisfied: certifi>=2017.4.17 in /anaconda/envs/azureml_py38_PT_TF/lib/python3.8/site-packages (from requests->transformers==4.17.0) (2021.10.8)\nRequirement already satisfied: idna<4,>=2.5 in /anaconda/envs/azureml_py38_PT_TF/lib/python3.8/site-packages (from requests->transformers==4.17.0) (3.3)\nRequirement already satisfied: six in /anaconda/envs/azureml_py38_PT_TF/lib/python3.8/site-packages (from sacremoses->transformers==4.17.0) (1.16.0)\nRequirement already satisfied: click in /anaconda/envs/azureml_py38_PT_TF/lib/python3.8/site-packages (from sacremoses->transformers==4.17.0) (7.1.2)\nRequirement already satisfied: joblib in /anaconda/envs/azureml_py38_PT_TF/lib/python3.8/site-packages (from sacremoses->transformers==4.17.0) (1.1.0)\nBuilding wheels for collected packages: sacremoses\n  Building wheel for sacremoses (setup.py) ... \u001b[?25l-\b \b\\\b \b|\b \b/\b \b-\b \b\\\b \b|\b \b/\b \bdone\n\u001b[?25h  Created wheel for sacremoses: filename=sacremoses-0.0.53-py3-none-any.whl size=895260 sha256=51650aac99807ac5be8147a55f1f1fde74e152d11834ea0fe17f78ea45b3a48a\n  Stored in directory: /home/azureuser/.cache/pip/wheels/82/ab/9b/c15899bf659ba74f623ac776e861cf2eb8608c1825ddec66a4\nSuccessfully built sacremoses\nInstalling collected packages: regex, filelock, tokenizers, sacremoses, huggingface-hub, transformers\nSuccessfully installed filelock-3.7.1 huggingface-hub-0.7.0 regex-2022.6.2 sacremoses-0.0.53 tokenizers-0.12.1 transformers-4.17.0\nNote: you may need to restart the kernel to use updated packages.\n"
        },
        {
          "output_type": "stream",
          "name": "stderr",
          "text": "/anaconda/envs/azureml_py38_PT_TF/lib/python3.8/site-packages/tqdm/auto.py:22: TqdmWarning: IProgress not found. Please update jupyter and ipywidgets. See https://ipywidgets.readthedocs.io/en/stable/user_install.html\n  from .autonotebook import tqdm as notebook_tqdm\n2022/06/07 14:39:01 INFO mlflow.tracking.fluent: Autologging successfully enabled for tensorflow.\n2022/06/07 14:39:08 INFO mlflow.tracking.fluent: Autologging successfully enabled for sklearn.\n"
        }
      ],
      "execution_count": 1,
      "metadata": {}
    },
    {
      "cell_type": "code",
      "source": [
        "tokenizer = GPT2Tokenizer.from_pretrained(\"gpt2\")\n",
        "tokenizer.save_pretrained(\"./model/tokenizer\")\n",
        "model = GPT2LMHeadModel.from_pretrained(\"gpt2\")\n",
        "model.save_pretrained(\"./model/weights\")\n",
        "config = GPT2Config.from_pretrained(\"gpt2\")\n",
        "config.save_pretrained(\"./model/config\")"
      ],
      "outputs": [
        {
          "output_type": "stream",
          "name": "stderr",
          "text": "Downloading: 100%|██████████| 0.99M/0.99M [00:00<00:00, 9.97MB/s]\nDownloading: 100%|██████████| 446k/446k [00:00<00:00, 5.51MB/s]\nDownloading: 100%|██████████| 665/665 [00:00<00:00, 767kB/s]\nDownloading: 100%|██████████| 523M/523M [00:17<00:00, 30.5MB/s] \n"
        }
      ],
      "execution_count": 2,
      "metadata": {}
    },
    {
      "cell_type": "code",
      "source": [
        "generator = pipeline(\n",
        "    \"text-generation\",\n",
        "    model=\"./model/weights\",\n",
        "    tokenizer=\"./model/tokenizer\",\n",
        "    config=\"./model/config\",\n",
        ")"
      ],
      "outputs": [],
      "execution_count": 3,
      "metadata": {}
    },
    {
      "cell_type": "code",
      "source": [
        "prompt = \"Sometimes when we go\"\n",
        "max_length = 35\n",
        "num_return_sequences = 3"
      ],
      "outputs": [],
      "execution_count": 4,
      "metadata": {}
    },
    {
      "cell_type": "code",
      "source": [
        "generator(prompt, max_length=max_length, num_return_sequences=num_return_sequences)"
      ],
      "outputs": [
        {
          "output_type": "stream",
          "name": "stderr",
          "text": "Setting `pad_token_id` to `eos_token_id`:50256 for open-end generation.\n"
        },
        {
          "output_type": "execute_result",
          "execution_count": 5,
          "data": {
            "text/plain": "[{'generated_text': 'Sometimes when we go to a restaurant we often think, \\'Oh, great.\\'\" And we do not see our food until that point.\\n\\nI wonder if this is in'},\n {'generated_text': \"Sometimes when we go back to where the original was, when we got to San Diego, there's a giant mural going up in the center of San Diego that tells the story\"},\n {'generated_text': 'Sometimes when we go out into the world and do the world a favour, we are called to action. This is especially true if you have come through the war, and are'}]"
          },
          "metadata": {}
        }
      ],
      "execution_count": 5,
      "metadata": {}
    },
    {
      "cell_type": "code",
      "source": [],
      "outputs": [],
      "execution_count": null,
      "metadata": {}
    }
  ],
  "metadata": {
    "interpreter": {
      "hash": "dbaf699705a9d2c0424d3e39b0fb26cef1fc49f20dae9718b3681441105d6206"
    },
    "kernelspec": {
      "name": "azureml_py38_pt_tf",
      "language": "python",
      "display_name": "Python 3.8 - Pytorch and Tensorflow"
    },
    "language_info": {
      "name": "python",
      "version": "3.8.1",
      "mimetype": "text/x-python",
      "codemirror_mode": {
        "name": "ipython",
        "version": 3
      },
      "pygments_lexer": "ipython3",
      "nbconvert_exporter": "python",
      "file_extension": ".py"
    },
    "orig_nbformat": 4,
    "kernel_info": {
      "name": "azureml_py38_pt_tf"
    },
    "nteract": {
      "version": "nteract-front-end@1.0.0"
    }
  },
  "nbformat": 4,
  "nbformat_minor": 0
}